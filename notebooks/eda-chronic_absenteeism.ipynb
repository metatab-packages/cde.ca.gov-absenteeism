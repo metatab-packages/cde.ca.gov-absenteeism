{
 "cells": [
  {
   "cell_type": "markdown",
   "metadata": {},
   "source": [
    "# Exploratory Data Analysis\n",
    "\n",
    "When placed in Metapack data package, this notebook will load the package and run a variety of common EDA operations on the first resource. \n"
   ]
  },
  {
   "cell_type": "code",
   "execution_count": 1,
   "metadata": {},
   "outputs": [],
   "source": [
    "import matplotlib.pyplot as plt \n",
    "import seaborn as sns\n",
    "import metapack as mp\n",
    "import pandas as pd\n",
    "import numpy as np\n",
    "from IPython.display import display \n",
    "\n",
    "%matplotlib inline\n",
    "sns.set_context('notebook')\n"
   ]
  },
  {
   "cell_type": "code",
   "execution_count": 2,
   "metadata": {},
   "outputs": [
    {
     "data": {
      "text/html": [
       "<h1>Chronic Absenteeism</h1>\n",
       "<p><code>cde.ca.gov-absenteeism-2</code> Last Update: 2019-05-22T19:00:33</p>\n",
       "<p><em>Student absenteeism data by ethnicity, gender, program subgroup, and grade span. Chronic absenteeism counts, cumulative enrollment, and chronic absenteeism rate data are provided.</em></p>\n",
       "<h2>Documentation Links</h2>\n",
       "<ul>\n",
       "<li><a href=\"https://www.cde.ca.gov/ds/sd/sd/filesabd.asp\">Dataset Homepage</a> </li>\n",
       "</ul>\n",
       "<h2>Contacts</h2>\n",
       "<ul>\n",
       "<li><strong>Wrangler</strong> <a href=\"mailto:eric@civicknowledge.com\">Eric Busboom</a>, <a href=\"http://civicknowledge.com\">Civic Knowledge</a></li>\n",
       "</ul>\n",
       "<h2>Resources</h2>\n",
       "<ul>\n",
       "<li><strong> <a href=\"data/chronic_absenteeism.csv\">chronic_absenteeism</a></strong>. Combined Chronic Absenteeism files</li>\n",
       "</ul>\n",
       "<h2>References</h2>\n",
       "<ul>\n",
       "<li><strong><a href=\"ftp://ftp.cde.ca.gov/demo/attendance/ChrAbsRate1718.txt#target_format=tsv\">chab17</a></strong>. Chronic Absenteeism 2017-2018</li>\n",
       "<li><strong><a href=\"ftp://ftp.cde.ca.gov/demo/attendance/ChrAbsRate1617.txt#target_format=tsv\">chab16</a></strong>. Chronic Absenteeism 2016-2017</li>\n",
       "</ul>"
      ],
      "text/plain": [
       "# Chronic Absenteeism\n",
       "`cde.ca.gov-absenteeism-2` Last Update: 2019-05-22T19:00:33\n",
       "\n",
       "_Student absenteeism data by ethnicity, gender, program subgroup, and grade span. Chronic absenteeism counts, cumulative enrollment, and chronic absenteeism rate data are provided._\n",
       "\n",
       "\n",
       "## Documentation Links\n",
       "\n",
       "* [Dataset Homepage](https://www.cde.ca.gov/ds/sd/sd/filesabd.asp) \n",
       "\n",
       " \n",
       " \n",
       "## Contacts\n",
       "\n",
       "* **Wrangler** [Eric Busboom](mailto:eric@civicknowledge.com), [Civic Knowledge](http://civicknowledge.com)\n",
       " \n",
       "## Resources\n",
       "\n",
       "* ** [chronic_absenteeism](data/chronic_absenteeism.csv)**. Combined Chronic Absenteeism files\n",
       " \n",
       "## References\n",
       "\n",
       "* **[chab17](ftp://ftp.cde.ca.gov/demo/attendance/ChrAbsRate1718.txt#target_format=tsv)**. Chronic Absenteeism 2017-2018\n",
       "* **[chab16](ftp://ftp.cde.ca.gov/demo/attendance/ChrAbsRate1617.txt#target_format=tsv)**. Chronic Absenteeism 2016-2017"
      ]
     },
     "execution_count": 2,
     "metadata": {},
     "output_type": "execute_result"
    }
   ],
   "source": [
    "pkg = mp.jupyter.open_package()\n",
    "\n",
    "# For testing and development\n",
    "#pkg = mp.open_package('http://s3.amazonaws.com/library.metatab.org/cde.ca.gov-accountability_dashboard-2.zip')\n",
    "\n",
    "pkg"
   ]
  },
  {
   "cell_type": "code",
   "execution_count": 3,
   "metadata": {
    "tags": [
     "resource_name"
    ]
   },
   "outputs": [],
   "source": [
    "resource_name='chronic_absenteeism'"
   ]
  },
  {
   "cell_type": "code",
   "execution_count": 4,
   "metadata": {},
   "outputs": [
    {
     "data": {
      "text/html": [
       "<h3><a name=\"resource-chronic_absenteeism\"></a>chronic_absenteeism</h3><p><a target=\"_blank\" href=\"file:///Users/eric/proj/data-projects/cde.ca.gov/cde.ca.gov-absenteeism/_packages/cde.ca.gov-absenteeism-2/data/chronic_absenteeism.csv\">file:///Users/eric/proj/data-projects/cde.ca.gov/cde.ca.gov-absenteeism/_packages/cde.ca.gov-absenteeism-2/data/chronic_absenteeism.csv</a></p><table>\n",
       "<tr><th>Header</th><th>Type</th><th>Description</th></tr><tr><td>year</td><td>integer</td><td>Year taken from the source dataset name.</td></tr> \n",
       "<tr><td>academic_year</td><td>string</td><td>The academic year (July 1 – June 30) corresponding to the time period during which the data were collected.</td></tr> \n",
       "<tr><td>aggregate_level</td><td>string</td><td>T = State\n",
       "C = County\n",
       "D1 = District (All Schools)\n",
       "D2 = District (Non-Charter Schools)\n",
       "S = School</td></tr> \n",
       "<tr><td>county_code</td><td>integer</td><td>A unique two-digit code corresponding to the county.</td></tr> \n",
       "<tr><td>district_code</td><td>integer</td><td>A unique five-digit code corresponding to the district.</td></tr> \n",
       "<tr><td>school_code</td><td>integer</td><td>A unique seven-digit code corresponding to the school.</td></tr> \n",
       "<tr><td>county_name</td><td>string</td><td>County Name</td></tr> \n",
       "<tr><td>district_name</td><td>string</td><td>District or Administrative Authority Name</td></tr> \n",
       "<tr><td>school_name</td><td>string</td><td>School Name</td></tr> \n",
       "<tr><td>is_charter</td><td>string</td><td>A \"Y\" or \"N\" value indicating whether a school is a charter school in the current academic year.</td></tr> \n",
       "<tr><td>reporting_category</td><td>string</td><td>RB = African American\n",
       "RI = American Indian or Alaska Native\n",
       "RA = Asian\n",
       "RF = Filipino\n",
       "RH = Hispanic or Latino\n",
       "RD = Did not Report\n",
       "RP = Pacific Islander\n",
       "RT = Two or More Races\n",
       "RW = White\n",
       "GM = Male\n",
       "GF = Female\n",
       "SE = English Learners\n",
       "SD = Students with Disabilities\n",
       "SS = Socioeconomically Disadvantaged\n",
       "SM = Migrant\n",
       "SF = Foster\n",
       "SH = Homeless\n",
       "GRK = Kindergarten\n",
       "GR13 = Grades 1–3\n",
       "GR46 = Grades 4–6\n",
       "GR78 = Grades 7–8\n",
       "GRK8 = Grades K–8\n",
       "GR912 = Grades 9–12\n",
       "GRUG = Ungraded Elementary and Secondary\n",
       "TA = Total</td></tr> \n",
       "<tr><td>cumulative_enrollment</td><td>integer</td><td>Cumulative enrollment consists of the total number of unduplicated primary and short-term enrollments within the academic year (July 1 to June 30), regardless of whether the student is enrolled multiple times within a school or district.</td></tr> \n",
       "<tr><td>chronic_absenteeism_count</td><td>integer</td><td>Total count of ALL chronically absent students at the selected entity for the selected population using the available filters. Students are determined to be chronically absent if they were enrolled for a combined total of 30 days or more at the selected reporting level during the academic year and they were absent for 10% or more of the days they were expected to attend.</td></tr> \n",
       "<tr><td>cumulative_eligible_enrollment</td><td>integer</td><td>This count uses the Cumulative Enrollment of the selected entity as the baseline and removes students that were not eligible to be considered chronically absent at that entity. Students that are enrolled less than 31 instructional days at the selected entity are not eligible to be considered chronically absent at that entity. This is calculated by looking at the number of \"expected days to attend\" that LEAs submit for each student in CALPADS. Students with exempt status are also removed from Chronic Absenteeism eligibility. Students are considered to be exempt if they are enrolled in a Non-Public School (NPS), receive instruction through a home or hospital instructional setting or are attending community college full-time.</td></tr> \n",
       "<tr><td>chronic_absenteeism_rate</td><td>number</td><td>The unduplicated count of students determined to be chronically absent (Chronic Absenteeism Count) divided by the Chronic Absenteeism Enrollment at the selected entity for the selected population using the available filters.</td></tr> </table>"
      ],
      "text/plain": [
       "<Resource: metadata.csv 28:1 root.datafile data/chronic_absenteeism.csv ['chronic_absenteeism', 'Combined Chronic Absenteeism files', 'chronic', 'Year']>"
      ]
     },
     "execution_count": 4,
     "metadata": {},
     "output_type": "execute_result"
    }
   ],
   "source": [
    "pkg.resource(resource_name)"
   ]
  },
  {
   "cell_type": "code",
   "execution_count": 5,
   "metadata": {},
   "outputs": [],
   "source": [
    "df = pkg.resource(resource_name).read_csv(parse_dates=True)"
   ]
  },
  {
   "cell_type": "code",
   "execution_count": 6,
   "metadata": {},
   "outputs": [
    {
     "data": {
      "text/html": [
       "<div>\n",
       "<style scoped>\n",
       "    .dataframe tbody tr th:only-of-type {\n",
       "        vertical-align: middle;\n",
       "    }\n",
       "\n",
       "    .dataframe tbody tr th {\n",
       "        vertical-align: top;\n",
       "    }\n",
       "\n",
       "    .dataframe thead th {\n",
       "        text-align: right;\n",
       "    }\n",
       "</style>\n",
       "<table border=\"1\" class=\"dataframe\">\n",
       "  <thead>\n",
       "    <tr style=\"text-align: right;\">\n",
       "      <th></th>\n",
       "      <th>year</th>\n",
       "      <th>academic_year</th>\n",
       "      <th>aggregate_level</th>\n",
       "      <th>county_code</th>\n",
       "      <th>district_code</th>\n",
       "      <th>school_code</th>\n",
       "      <th>county_name</th>\n",
       "      <th>district_name</th>\n",
       "      <th>school_name</th>\n",
       "      <th>is_charter</th>\n",
       "      <th>reporting_category</th>\n",
       "      <th>cumulative_enrollment</th>\n",
       "      <th>chronic_absenteeism_count</th>\n",
       "      <th>cumulative_eligible_enrollment</th>\n",
       "      <th>chronic_absenteeism_rate</th>\n",
       "    </tr>\n",
       "  </thead>\n",
       "  <tbody>\n",
       "    <tr>\n",
       "      <th>0</th>\n",
       "      <td>17</td>\n",
       "      <td>2017-18</td>\n",
       "      <td>C</td>\n",
       "      <td>1.0</td>\n",
       "      <td>NaN</td>\n",
       "      <td>NaN</td>\n",
       "      <td>Alameda</td>\n",
       "      <td>NaN</td>\n",
       "      <td>NaN</td>\n",
       "      <td>NaN</td>\n",
       "      <td>GF</td>\n",
       "      <td>114424.0</td>\n",
       "      <td>113231.0</td>\n",
       "      <td>11448.0</td>\n",
       "      <td>10.1</td>\n",
       "    </tr>\n",
       "    <tr>\n",
       "      <th>1</th>\n",
       "      <td>17</td>\n",
       "      <td>2017-18</td>\n",
       "      <td>C</td>\n",
       "      <td>1.0</td>\n",
       "      <td>NaN</td>\n",
       "      <td>NaN</td>\n",
       "      <td>Alameda</td>\n",
       "      <td>NaN</td>\n",
       "      <td>NaN</td>\n",
       "      <td>NaN</td>\n",
       "      <td>GM</td>\n",
       "      <td>121612.0</td>\n",
       "      <td>119966.0</td>\n",
       "      <td>12531.0</td>\n",
       "      <td>10.4</td>\n",
       "    </tr>\n",
       "    <tr>\n",
       "      <th>2</th>\n",
       "      <td>17</td>\n",
       "      <td>2017-18</td>\n",
       "      <td>C</td>\n",
       "      <td>1.0</td>\n",
       "      <td>NaN</td>\n",
       "      <td>NaN</td>\n",
       "      <td>Alameda</td>\n",
       "      <td>NaN</td>\n",
       "      <td>NaN</td>\n",
       "      <td>NaN</td>\n",
       "      <td>GR13</td>\n",
       "      <td>53709.0</td>\n",
       "      <td>53198.0</td>\n",
       "      <td>4402.0</td>\n",
       "      <td>8.3</td>\n",
       "    </tr>\n",
       "    <tr>\n",
       "      <th>3</th>\n",
       "      <td>17</td>\n",
       "      <td>2017-18</td>\n",
       "      <td>C</td>\n",
       "      <td>1.0</td>\n",
       "      <td>NaN</td>\n",
       "      <td>NaN</td>\n",
       "      <td>Alameda</td>\n",
       "      <td>NaN</td>\n",
       "      <td>NaN</td>\n",
       "      <td>NaN</td>\n",
       "      <td>GR46</td>\n",
       "      <td>53798.0</td>\n",
       "      <td>53310.0</td>\n",
       "      <td>3851.0</td>\n",
       "      <td>7.2</td>\n",
       "    </tr>\n",
       "    <tr>\n",
       "      <th>4</th>\n",
       "      <td>17</td>\n",
       "      <td>2017-18</td>\n",
       "      <td>C</td>\n",
       "      <td>1.0</td>\n",
       "      <td>NaN</td>\n",
       "      <td>NaN</td>\n",
       "      <td>Alameda</td>\n",
       "      <td>NaN</td>\n",
       "      <td>NaN</td>\n",
       "      <td>NaN</td>\n",
       "      <td>GR78</td>\n",
       "      <td>35304.0</td>\n",
       "      <td>34987.0</td>\n",
       "      <td>2710.0</td>\n",
       "      <td>7.7</td>\n",
       "    </tr>\n",
       "  </tbody>\n",
       "</table>\n",
       "</div>"
      ],
      "text/plain": [
       "   year academic_year aggregate_level  county_code  district_code  \\\n",
       "0    17       2017-18               C          1.0            NaN   \n",
       "1    17       2017-18               C          1.0            NaN   \n",
       "2    17       2017-18               C          1.0            NaN   \n",
       "3    17       2017-18               C          1.0            NaN   \n",
       "4    17       2017-18               C          1.0            NaN   \n",
       "\n",
       "   school_code county_name district_name school_name is_charter  \\\n",
       "0          NaN     Alameda           NaN         NaN        NaN   \n",
       "1          NaN     Alameda           NaN         NaN        NaN   \n",
       "2          NaN     Alameda           NaN         NaN        NaN   \n",
       "3          NaN     Alameda           NaN         NaN        NaN   \n",
       "4          NaN     Alameda           NaN         NaN        NaN   \n",
       "\n",
       "  reporting_category  cumulative_enrollment  chronic_absenteeism_count  \\\n",
       "0                 GF               114424.0                   113231.0   \n",
       "1                 GM               121612.0                   119966.0   \n",
       "2               GR13                53709.0                    53198.0   \n",
       "3               GR46                53798.0                    53310.0   \n",
       "4               GR78                35304.0                    34987.0   \n",
       "\n",
       "   cumulative_eligible_enrollment  chronic_absenteeism_rate  \n",
       "0                         11448.0                      10.1  \n",
       "1                         12531.0                      10.4  \n",
       "2                          4402.0                       8.3  \n",
       "3                          3851.0                       7.2  \n",
       "4                          2710.0                       7.7  "
      ]
     },
     "execution_count": 6,
     "metadata": {},
     "output_type": "execute_result"
    }
   ],
   "source": [
    "df.head()"
   ]
  },
  {
   "cell_type": "code",
   "execution_count": 7,
   "metadata": {},
   "outputs": [],
   "source": [
    "empty_col_names = [cn for cn in df.columns if df[cn].nunique() == 0]\n",
    "const_col_names= [cn for cn in df.columns if df[cn].nunique() == 1]\n",
    "ignore_cols = empty_col_names+const_col_names\n",
    "dt_col_names= list(df.select_dtypes(include=[np.datetime64]).columns)\n",
    "\n",
    "number_col_names = [ cn for cn in df.select_dtypes(include=[np.number]).columns if cn not in ignore_cols ]\n",
    "other_col_names = [cn for cn in df.columns if cn not in (empty_col_names+const_col_names+dt_col_names+number_col_names)]"
   ]
  },
  {
   "cell_type": "code",
   "execution_count": 8,
   "metadata": {},
   "outputs": [
    {
     "data": {
      "text/html": [
       "<div>\n",
       "<style scoped>\n",
       "    .dataframe tbody tr th:only-of-type {\n",
       "        vertical-align: middle;\n",
       "    }\n",
       "\n",
       "    .dataframe tbody tr th {\n",
       "        vertical-align: top;\n",
       "    }\n",
       "\n",
       "    .dataframe thead th {\n",
       "        text-align: right;\n",
       "    }\n",
       "</style>\n",
       "<table border=\"1\" class=\"dataframe\">\n",
       "  <thead>\n",
       "    <tr style=\"text-align: right;\">\n",
       "      <th></th>\n",
       "      <th>count</th>\n",
       "    </tr>\n",
       "  </thead>\n",
       "  <tbody>\n",
       "    <tr>\n",
       "      <th>empty</th>\n",
       "      <td>0</td>\n",
       "    </tr>\n",
       "    <tr>\n",
       "      <th>const</th>\n",
       "      <td>0</td>\n",
       "    </tr>\n",
       "    <tr>\n",
       "      <th>datetime</th>\n",
       "      <td>0</td>\n",
       "    </tr>\n",
       "    <tr>\n",
       "      <th>number</th>\n",
       "      <td>8</td>\n",
       "    </tr>\n",
       "    <tr>\n",
       "      <th>other</th>\n",
       "      <td>7</td>\n",
       "    </tr>\n",
       "  </tbody>\n",
       "</table>\n",
       "</div>"
      ],
      "text/plain": [
       "          count\n",
       "empty         0\n",
       "const         0\n",
       "datetime      0\n",
       "number        8\n",
       "other         7"
      ]
     },
     "execution_count": 8,
     "metadata": {},
     "output_type": "execute_result"
    }
   ],
   "source": [
    "pd.DataFrame.from_dict({'empty':[len(empty_col_names)], \n",
    "                        'const':[len(const_col_names)],\n",
    "                        'datetime':[len(dt_col_names)],\n",
    "                        'number':[len(number_col_names)],\n",
    "                        'other':[len(other_col_names)],\n",
    "                       }, \n",
    "                       orient='index', columns=['count'])"
   ]
  },
  {
   "cell_type": "markdown",
   "metadata": {},
   "source": [
    "# Constant Columns"
   ]
  },
  {
   "cell_type": "code",
   "execution_count": 9,
   "metadata": {},
   "outputs": [],
   "source": [
    "if const_col_names:\n",
    "    display(df[const_col_names].drop_duplicates().T)"
   ]
  },
  {
   "cell_type": "markdown",
   "metadata": {},
   "source": [
    "# Empty Columns"
   ]
  },
  {
   "cell_type": "code",
   "execution_count": 10,
   "metadata": {},
   "outputs": [],
   "source": [
    "if empty_col_names:\n",
    "    display(df[empty_col_names].drop_duplicates().T)"
   ]
  },
  {
   "cell_type": "markdown",
   "metadata": {},
   "source": [
    "# Date and Time Columns"
   ]
  },
  {
   "cell_type": "code",
   "execution_count": 11,
   "metadata": {},
   "outputs": [],
   "source": [
    "if dt_col_names:\n",
    "    display(df[dt_col_names].info())\n",
    "    display(df[dt_col_names].describe().T)"
   ]
  },
  {
   "cell_type": "markdown",
   "metadata": {},
   "source": [
    "# Number Columns"
   ]
  },
  {
   "cell_type": "code",
   "execution_count": 12,
   "metadata": {},
   "outputs": [
    {
     "name": "stdout",
     "output_type": "stream",
     "text": [
      "<class 'pandas.core.frame.DataFrame'>\n",
      "RangeIndex: 477282 entries, 0 to 477281\n",
      "Data columns (total 8 columns):\n",
      "year                              477282 non-null int64\n",
      "county_code                       477257 non-null float64\n",
      "district_code                     474409 non-null float64\n",
      "school_code                       432126 non-null float64\n",
      "cumulative_enrollment             355526 non-null float64\n",
      "chronic_absenteeism_count         177896 non-null float64\n",
      "cumulative_eligible_enrollment    355526 non-null float64\n",
      "chronic_absenteeism_rate          355526 non-null float64\n",
      "dtypes: float64(7), int64(1)\n",
      "memory usage: 29.1 MB\n"
     ]
    },
    {
     "data": {
      "text/plain": [
       "None"
      ]
     },
     "metadata": {},
     "output_type": "display_data"
    },
    {
     "data": {
      "text/html": [
       "<div>\n",
       "<style scoped>\n",
       "    .dataframe tbody tr th:only-of-type {\n",
       "        vertical-align: middle;\n",
       "    }\n",
       "\n",
       "    .dataframe tbody tr th {\n",
       "        vertical-align: top;\n",
       "    }\n",
       "\n",
       "    .dataframe thead th {\n",
       "        text-align: right;\n",
       "    }\n",
       "</style>\n",
       "<table border=\"1\" class=\"dataframe\">\n",
       "  <thead>\n",
       "    <tr style=\"text-align: right;\">\n",
       "      <th></th>\n",
       "      <th>count</th>\n",
       "      <th>mean</th>\n",
       "      <th>std</th>\n",
       "      <th>min</th>\n",
       "      <th>25%</th>\n",
       "      <th>50%</th>\n",
       "      <th>75%</th>\n",
       "      <th>max</th>\n",
       "    </tr>\n",
       "  </thead>\n",
       "  <tbody>\n",
       "    <tr>\n",
       "      <th>year</th>\n",
       "      <td>477282.0</td>\n",
       "      <td>1.650129e+01</td>\n",
       "      <td>4.999989e-01</td>\n",
       "      <td>16.0</td>\n",
       "      <td>16.0</td>\n",
       "      <td>17.0</td>\n",
       "      <td>17.0</td>\n",
       "      <td>17.0</td>\n",
       "    </tr>\n",
       "    <tr>\n",
       "      <th>county_code</th>\n",
       "      <td>477257.0</td>\n",
       "      <td>2.912615e+01</td>\n",
       "      <td>1.438701e+01</td>\n",
       "      <td>0.0</td>\n",
       "      <td>19.0</td>\n",
       "      <td>30.0</td>\n",
       "      <td>39.0</td>\n",
       "      <td>58.0</td>\n",
       "    </tr>\n",
       "    <tr>\n",
       "      <th>district_code</th>\n",
       "      <td>474409.0</td>\n",
       "      <td>6.552303e+04</td>\n",
       "      <td>1.163580e+04</td>\n",
       "      <td>10017.0</td>\n",
       "      <td>64725.0</td>\n",
       "      <td>67173.0</td>\n",
       "      <td>69799.0</td>\n",
       "      <td>77107.0</td>\n",
       "    </tr>\n",
       "    <tr>\n",
       "      <th>school_code</th>\n",
       "      <td>432126.0</td>\n",
       "      <td>3.803646e+06</td>\n",
       "      <td>2.733103e+06</td>\n",
       "      <td>0.0</td>\n",
       "      <td>124964.0</td>\n",
       "      <td>6010276.0</td>\n",
       "      <td>6047401.0</td>\n",
       "      <td>9010745.0</td>\n",
       "    </tr>\n",
       "    <tr>\n",
       "      <th>cumulative_enrollment</th>\n",
       "      <td>355526.0</td>\n",
       "      <td>1.040281e+03</td>\n",
       "      <td>2.786624e+04</td>\n",
       "      <td>11.0</td>\n",
       "      <td>51.0</td>\n",
       "      <td>173.0</td>\n",
       "      <td>439.0</td>\n",
       "      <td>6405496.0</td>\n",
       "    </tr>\n",
       "    <tr>\n",
       "      <th>chronic_absenteeism_count</th>\n",
       "      <td>177896.0</td>\n",
       "      <td>1.013721e+03</td>\n",
       "      <td>2.754405e+04</td>\n",
       "      <td>0.0</td>\n",
       "      <td>48.0</td>\n",
       "      <td>165.0</td>\n",
       "      <td>423.0</td>\n",
       "      <td>6315131.0</td>\n",
       "    </tr>\n",
       "    <tr>\n",
       "      <th>cumulative_eligible_enrollment</th>\n",
       "      <td>355526.0</td>\n",
       "      <td>1.192674e+02</td>\n",
       "      <td>3.130386e+03</td>\n",
       "      <td>0.0</td>\n",
       "      <td>5.0</td>\n",
       "      <td>17.0</td>\n",
       "      <td>47.0</td>\n",
       "      <td>702531.0</td>\n",
       "    </tr>\n",
       "    <tr>\n",
       "      <th>chronic_absenteeism_rate</th>\n",
       "      <td>355526.0</td>\n",
       "      <td>1.436070e+01</td>\n",
       "      <td>1.472151e+01</td>\n",
       "      <td>0.0</td>\n",
       "      <td>5.7</td>\n",
       "      <td>10.3</td>\n",
       "      <td>17.3</td>\n",
       "      <td>100.0</td>\n",
       "    </tr>\n",
       "  </tbody>\n",
       "</table>\n",
       "</div>"
      ],
      "text/plain": [
       "                                   count          mean           std      min  \\\n",
       "year                            477282.0  1.650129e+01  4.999989e-01     16.0   \n",
       "county_code                     477257.0  2.912615e+01  1.438701e+01      0.0   \n",
       "district_code                   474409.0  6.552303e+04  1.163580e+04  10017.0   \n",
       "school_code                     432126.0  3.803646e+06  2.733103e+06      0.0   \n",
       "cumulative_enrollment           355526.0  1.040281e+03  2.786624e+04     11.0   \n",
       "chronic_absenteeism_count       177896.0  1.013721e+03  2.754405e+04      0.0   \n",
       "cumulative_eligible_enrollment  355526.0  1.192674e+02  3.130386e+03      0.0   \n",
       "chronic_absenteeism_rate        355526.0  1.436070e+01  1.472151e+01      0.0   \n",
       "\n",
       "                                     25%        50%        75%        max  \n",
       "year                                16.0       17.0       17.0       17.0  \n",
       "county_code                         19.0       30.0       39.0       58.0  \n",
       "district_code                    64725.0    67173.0    69799.0    77107.0  \n",
       "school_code                     124964.0  6010276.0  6047401.0  9010745.0  \n",
       "cumulative_enrollment               51.0      173.0      439.0  6405496.0  \n",
       "chronic_absenteeism_count           48.0      165.0      423.0  6315131.0  \n",
       "cumulative_eligible_enrollment       5.0       17.0       47.0   702531.0  \n",
       "chronic_absenteeism_rate             5.7       10.3       17.3      100.0  "
      ]
     },
     "metadata": {},
     "output_type": "display_data"
    }
   ],
   "source": [
    "if number_col_names:\n",
    "    display(df[number_col_names].info())\n",
    "    display(df[number_col_names].describe().T)"
   ]
  },
  {
   "cell_type": "markdown",
   "metadata": {},
   "source": [
    "## Distributions"
   ]
  },
  {
   "cell_type": "code",
   "execution_count": 13,
   "metadata": {
    "scrolled": false
   },
   "outputs": [],
   "source": [
    "def plot_histograms(df):\n",
    "\n",
    "    col_names = list(df.columns)\n",
    "\n",
    "    n_cols = np.ceil(np.sqrt(len(col_names)))\n",
    "    n_rows = np.ceil(np.sqrt(len(col_names)))\n",
    "\n",
    "    #plt.figure(figsize=(3*n_cols,3*n_rows))\n",
    "    fig, ax = plt.subplots(figsize=(3*n_cols,3*n_rows))\n",
    "    \n",
    "    for i in range(0,len(col_names)):\n",
    "        plt.subplot(n_rows + 1,n_cols,i+1)\n",
    "        try:\n",
    "            g = sns.distplot(df[col_names[i]].dropna(),kde=True) \n",
    "            g.set(xticklabels=[])\n",
    "            g.set(yticklabels=[])\n",
    "        except:\n",
    "            pass\n",
    "        \n",
    "    plt.tight_layout()\n",
    "        \n"
   ]
  },
  {
   "cell_type": "code",
   "execution_count": 14,
   "metadata": {},
   "outputs": [
    {
     "data": {
      "image/png": "[encoded data removed]",
      "text/plain": [
       "<Figure size 648x648 with 8 Axes>"
      ]
     },
     "metadata": {
      "needs_background": "light"
     },
     "output_type": "display_data"
    }
   ],
   "source": [
    "plot_histograms(df[number_col_names])"
   ]
  },
  {
   "cell_type": "markdown",
   "metadata": {},
   "source": [
    "## Box Plots"
   ]
  },
  {
   "cell_type": "code",
   "execution_count": 15,
   "metadata": {},
   "outputs": [],
   "source": [
    "def plot_boxes(df):\n",
    "\n",
    "    col_names = list(df.columns)\n",
    "\n",
    "    n_cols = np.ceil(np.sqrt(len(col_names)))\n",
    "    n_rows = np.ceil(np.sqrt(len(col_names)))\n",
    "\n",
    "    #plt.figure(figsize=(2*n_cols,3*n_rows))\n",
    "    fig, ax = plt.subplots(figsize=(2*n_cols,5*n_rows))\n",
    "    \n",
    "    for i in range(0,len(col_names)):\n",
    "        plt.subplot(n_rows + 1,n_cols,i+1)\n",
    "        try:\n",
    "            g = sns.boxplot(df[col_names[i]].dropna(),orient='v') \n",
    "        except:\n",
    "            pass\n",
    "        \n",
    "    plt.tight_layout()\n",
    "  "
   ]
  },
  {
   "cell_type": "code",
   "execution_count": 16,
   "metadata": {},
   "outputs": [
    {
     "data": {
      "image/png": "[encoded data removed]",
      "text/plain": [
       "<Figure size 432x1080 with 8 Axes>"
      ]
     },
     "metadata": {
      "needs_background": "light"
     },
     "output_type": "display_data"
    }
   ],
   "source": [
    "  \n",
    "plot_boxes(df[number_col_names])"
   ]
  },
  {
   "cell_type": "code",
   "execution_count": 17,
   "metadata": {},
   "outputs": [],
   "source": [
    "## Correlations"
   ]
  },
  {
   "cell_type": "code",
   "execution_count": 18,
   "metadata": {},
   "outputs": [
    {
     "data": {
      "text/plain": [
       "<matplotlib.axes._subplots.AxesSubplot at 0x129c269e8>"
      ]
     },
     "execution_count": 18,
     "metadata": {},
     "output_type": "execute_result"
    },
    {
     "data": {
      "image/png": "[encoded data removed]",
      "text/plain": [
       "<Figure size 288x288 with 2 Axes>"
      ]
     },
     "metadata": {
      "needs_background": "light"
     },
     "output_type": "display_data"
    }
   ],
   "source": [
    "\n",
    "cm = df[number_col_names].corr()\n",
    "\n",
    "mask = np.zeros_like(cm, dtype=np.bool)\n",
    "mask[np.triu_indices_from(mask)] = True\n",
    "\n",
    "plt.figure(figsize=(.5*len(number_col_names),.5*len(number_col_names)))\n",
    "sns.heatmap(cm, mask=mask, cmap = 'viridis')   "
   ]
  },
  {
   "cell_type": "markdown",
   "metadata": {},
   "source": [
    "# Other Columns"
   ]
  },
  {
   "cell_type": "code",
   "execution_count": 19,
   "metadata": {},
   "outputs": [
    {
     "name": "stdout",
     "output_type": "stream",
     "text": [
      "<class 'pandas.core.frame.DataFrame'>\n",
      "RangeIndex: 477282 entries, 0 to 477281\n",
      "Data columns (total 7 columns):\n",
      "academic_year         477282 non-null object\n",
      "aggregate_level       477282 non-null object\n",
      "county_name           477257 non-null object\n",
      "district_name         474409 non-null object\n",
      "school_name           432126 non-null object\n",
      "is_charter            410374 non-null object\n",
      "reporting_category    477282 non-null object\n",
      "dtypes: object(7)\n",
      "memory usage: 25.5+ MB\n"
     ]
    },
    {
     "data": {
      "text/plain": [
       "None"
      ]
     },
     "metadata": {},
     "output_type": "display_data"
    },
    {
     "data": {
      "text/html": [
       "<div>\n",
       "<style scoped>\n",
       "    .dataframe tbody tr th:only-of-type {\n",
       "        vertical-align: middle;\n",
       "    }\n",
       "\n",
       "    .dataframe tbody tr th {\n",
       "        vertical-align: top;\n",
       "    }\n",
       "\n",
       "    .dataframe thead th {\n",
       "        text-align: right;\n",
       "    }\n",
       "</style>\n",
       "<table border=\"1\" class=\"dataframe\">\n",
       "  <thead>\n",
       "    <tr style=\"text-align: right;\">\n",
       "      <th></th>\n",
       "      <th>count</th>\n",
       "      <th>unique</th>\n",
       "      <th>top</th>\n",
       "      <th>freq</th>\n",
       "    </tr>\n",
       "  </thead>\n",
       "  <tbody>\n",
       "    <tr>\n",
       "      <th>academic_year</th>\n",
       "      <td>477282</td>\n",
       "      <td>2</td>\n",
       "      <td>2017-18</td>\n",
       "      <td>239257</td>\n",
       "    </tr>\n",
       "    <tr>\n",
       "      <th>aggregate_level</th>\n",
       "      <td>477282</td>\n",
       "      <td>5</td>\n",
       "      <td>S</td>\n",
       "      <td>389614</td>\n",
       "    </tr>\n",
       "    <tr>\n",
       "      <th>county_name</th>\n",
       "      <td>477257</td>\n",
       "      <td>59</td>\n",
       "      <td>Los Angeles</td>\n",
       "      <td>92499</td>\n",
       "    </tr>\n",
       "    <tr>\n",
       "      <th>district_name</th>\n",
       "      <td>474409</td>\n",
       "      <td>1022</td>\n",
       "      <td>Los Angeles Unified</td>\n",
       "      <td>36120</td>\n",
       "    </tr>\n",
       "    <tr>\n",
       "      <th>school_name</th>\n",
       "      <td>432126</td>\n",
       "      <td>8988</td>\n",
       "      <td>District Office</td>\n",
       "      <td>44042</td>\n",
       "    </tr>\n",
       "    <tr>\n",
       "      <th>is_charter</th>\n",
       "      <td>410374</td>\n",
       "      <td>2</td>\n",
       "      <td>N</td>\n",
       "      <td>364596</td>\n",
       "    </tr>\n",
       "    <tr>\n",
       "      <th>reporting_category</th>\n",
       "      <td>477282</td>\n",
       "      <td>32</td>\n",
       "      <td>TA</td>\n",
       "      <td>25288</td>\n",
       "    </tr>\n",
       "  </tbody>\n",
       "</table>\n",
       "</div>"
      ],
      "text/plain": [
       "                     count unique                  top    freq\n",
       "academic_year       477282      2              2017-18  239257\n",
       "aggregate_level     477282      5                    S  389614\n",
       "county_name         477257     59          Los Angeles   92499\n",
       "district_name       474409   1022  Los Angeles Unified   36120\n",
       "school_name         432126   8988      District Office   44042\n",
       "is_charter          410374      2                    N  364596\n",
       "reporting_category  477282     32                   TA   25288"
      ]
     },
     "metadata": {},
     "output_type": "display_data"
    }
   ],
   "source": [
    "if other_col_names:\n",
    "    display(df[other_col_names].info())\n",
    "    display(df[other_col_names].describe().T)"
   ]
  },
  {
   "cell_type": "markdown",
   "metadata": {},
   "source": [
    "# Nulls\n"
   ]
  },
  {
   "cell_type": "code",
   "execution_count": 20,
   "metadata": {},
   "outputs": [
    {
     "data": {
      "text/plain": [
       "<matplotlib.axes._subplots.AxesSubplot at 0x129f7f2e8>"
      ]
     },
     "execution_count": 20,
     "metadata": {},
     "output_type": "execute_result"
    },
    {
     "data": {
      "image/png": "[encoded data removed]",
      "text/plain": [
       "<Figure size 1080x540 with 1 Axes>"
      ]
     },
     "metadata": {
      "needs_background": "light"
     },
     "output_type": "display_data"
    }
   ],
   "source": [
    "cols = dt_col_names + number_col_names + other_col_names\n",
    "\n",
    "fig, ax = plt.subplots(figsize=(15,.5*len(cols)))\n",
    "sns.heatmap(df[cols].isnull().T,cbar=False,xticklabels=False,cmap = 'viridis', ax=ax )"
   ]
  }
 ],
 "metadata": {
  "celltoolbar": "Tags",
  "kernelspec": {
   "display_name": "Python 3",
   "language": "python",
   "name": "python3"
  },
  "language_info": {
   "codemirror_mode": {
    "name": "ipython",
    "version": 3
   },
   "file_extension": ".py",
   "mimetype": "text/x-python",
   "name": "python",
   "nbconvert_exporter": "python",
   "pygments_lexer": "ipython3",
   "version": "3.7.3"
  }
 },
 "nbformat": 4,
 "nbformat_minor": 2
}
